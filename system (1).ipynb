{
  "nbformat": 4,
  "nbformat_minor": 0,
  "metadata": {
    "colab": {
      "provenance": []
    },
    "kernelspec": {
      "name": "python3",
      "display_name": "Python 3"
    },
    "language_info": {
      "name": "python"
    }
  },
  "cells": [
    {
      "cell_type": "code",
      "execution_count": null,
      "metadata": {
        "colab": {
          "base_uri": "https://localhost:8080/"
        },
        "id": "AwEILYAsWFl1",
        "outputId": "b4a73d53-3734-48a3-bf19-9994d187a755"
      },
      "outputs": [
        {
          "output_type": "stream",
          "name": "stdout",
          "text": [
            "Requirement already satisfied: pandas in /usr/local/lib/python3.10/dist-packages (2.2.2)\n",
            "Requirement already satisfied: numpy in /usr/local/lib/python3.10/dist-packages (1.26.4)\n",
            "Requirement already satisfied: scikit-learn in /usr/local/lib/python3.10/dist-packages (1.5.2)\n",
            "Requirement already satisfied: python-dateutil>=2.8.2 in /usr/local/lib/python3.10/dist-packages (from pandas) (2.8.2)\n",
            "Requirement already satisfied: pytz>=2020.1 in /usr/local/lib/python3.10/dist-packages (from pandas) (2024.2)\n",
            "Requirement already satisfied: tzdata>=2022.7 in /usr/local/lib/python3.10/dist-packages (from pandas) (2024.2)\n",
            "Requirement already satisfied: scipy>=1.6.0 in /usr/local/lib/python3.10/dist-packages (from scikit-learn) (1.13.1)\n",
            "Requirement already satisfied: joblib>=1.2.0 in /usr/local/lib/python3.10/dist-packages (from scikit-learn) (1.4.2)\n",
            "Requirement already satisfied: threadpoolctl>=3.1.0 in /usr/local/lib/python3.10/dist-packages (from scikit-learn) (3.5.0)\n",
            "Requirement already satisfied: six>=1.5 in /usr/local/lib/python3.10/dist-packages (from python-dateutil>=2.8.2->pandas) (1.16.0)\n"
          ]
        }
      ],
      "source": [
        "!pip install pandas numpy scikit-learn\n",
        "\n"
      ]
    },
    {
      "cell_type": "code",
      "source": [
        "import pandas as pd\n",
        "import numpy as np\n",
        "from sklearn.metrics.pairwise import cosine_similarity\n",
        "from sklearn.preprocessing import StandardScaler\n",
        "data = {'Movie1': [5, 4, np.nan, 3, 5],\n",
        "        'Movie2': [4, 5, 4, np.nan, 4],\n",
        "        'Movie3': [np.nan, 5, 4, 4, np.nan],\n",
        "        'Movie4': [5, np.nan, 4, 3, 4],\n",
        "        'Movie5': [4, 4, 5, np.nan, 5]}\n",
        "df = pd.DataFrame(data, index=['User1', 'User2', 'User3', 'User4', 'User5'])\n",
        "df_filled = df.apply(lambda col: col.fillna(col.mean()), axis=0)\n",
        "scaler = StandardScaler()\n",
        "df_normalized = pd.DataFrame(scaler.fit_transform(df_filled), index=df_filled.index, columns=df_filled.columns)\n",
        "user_similarity = cosine_similarity(df_normalized)\n",
        "user_similarity_df = pd.DataFrame(user_similarity, index=df.index, columns=df.index)\n",
        "def recommend_movies(user_id, num_recommendations=2):\n",
        "    sim_scores = user_similarity_df[user_id]\n",
        "    user_ratings = df_filled.T.dot(sim_scores) / sim_scores.sum()\n",
        "    unrated_movies = df.loc[user_id].isna()\n",
        "    recommendations = user_ratings[unrated_movies].sort_values(ascending=False).head(num_recommendations)\n",
        "    return recommendations\n",
        "\n",
        "recommendations = recommend_movies('User3', num_recommendations=3)\n",
        "print(\"Recommended Movies for User3:\\n\", recommendations)\n"
      ],
      "metadata": {
        "colab": {
          "base_uri": "https://localhost:8080/"
        },
        "id": "0AfVLkEwWscj",
        "outputId": "08489d2d-0bf2-4fd7-b30d-576512a11592"
      },
      "execution_count": null,
      "outputs": [
        {
          "output_type": "stream",
          "name": "stdout",
          "text": [
            "Recommended Movies for User3:\n",
            " Movie1    4.626806\n",
            "dtype: float64\n"
          ]
        }
      ]
    }
  ]
}